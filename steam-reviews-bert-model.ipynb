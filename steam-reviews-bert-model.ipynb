{
 "cells": [
  {
   "cell_type": "code",
   "execution_count": 1,
   "id": "c0b2e850",
   "metadata": {
    "_cell_guid": "b1076dfc-b9ad-4769-8c92-a6c4dae69d19",
    "_uuid": "8f2839f25d086af736a60e9eeb907d3b93b6e0e5",
    "execution": {
     "iopub.execute_input": "2024-06-24T15:55:53.248113Z",
     "iopub.status.busy": "2024-06-24T15:55:53.247722Z",
     "iopub.status.idle": "2024-06-24T15:55:53.962485Z",
     "shell.execute_reply": "2024-06-24T15:55:53.961574Z"
    },
    "papermill": {
     "duration": 0.731637,
     "end_time": "2024-06-24T15:55:53.964701",
     "exception": false,
     "start_time": "2024-06-24T15:55:53.233064",
     "status": "completed"
    },
    "tags": []
   },
   "outputs": [
    {
     "name": "stdout",
     "output_type": "stream",
     "text": [
      "/kaggle/input/steam-reviews/dataset.csv\n"
     ]
    }
   ],
   "source": [
    "# This Python 3 environment comes with many helpful analytics libraries installed\n",
    "# It is defined by the kaggle/python Docker image: https://github.com/kaggle/docker-python\n",
    "# For example, here's several helpful packages to load\n",
    "\n",
    "import numpy as np # linear algebra\n",
    "import pandas as pd # data processing, CSV file I/O (e.g. pd.read_csv)\n",
    "\n",
    "# Input data files are available in the read-only \"../input/\" directory\n",
    "# For example, running this (by clicking run or pressing Shift+Enter) will list all files under the input directory\n",
    "\n",
    "import os\n",
    "for dirname, _, filenames in os.walk('/kaggle/input'):\n",
    "    for filename in filenames:\n",
    "        print(os.path.join(dirname, filename))\n",
    "\n",
    "# You can write up to 20GB to the current directory (/kaggle/working/) that gets preserved as output when you create a version using \"Save & Run All\" \n",
    "# You can also write temporary files to /kaggle/temp/, but they won't be saved outside of the current session"
   ]
  },
  {
   "cell_type": "code",
   "execution_count": 2,
   "id": "a4de00e2",
   "metadata": {
    "execution": {
     "iopub.execute_input": "2024-06-24T15:55:53.984562Z",
     "iopub.status.busy": "2024-06-24T15:55:53.984188Z",
     "iopub.status.idle": "2024-06-24T15:57:14.886495Z",
     "shell.execute_reply": "2024-06-24T15:57:14.885635Z"
    },
    "papermill": {
     "duration": 80.914751,
     "end_time": "2024-06-24T15:57:14.888980",
     "exception": false,
     "start_time": "2024-06-24T15:55:53.974229",
     "status": "completed"
    },
    "tags": []
   },
   "outputs": [
    {
     "name": "stdout",
     "output_type": "stream",
     "text": [
      "Requirement already satisfied: tf-keras in /opt/conda/lib/python3.10/site-packages (2.15.1)\r\n",
      "Requirement already satisfied: tensorflow<2.16,>=2.15 in /opt/conda/lib/python3.10/site-packages (from tf-keras) (2.15.0)\r\n",
      "Requirement already satisfied: absl-py>=1.0.0 in /opt/conda/lib/python3.10/site-packages (from tensorflow<2.16,>=2.15->tf-keras) (1.4.0)\r\n",
      "Requirement already satisfied: astunparse>=1.6.0 in /opt/conda/lib/python3.10/site-packages (from tensorflow<2.16,>=2.15->tf-keras) (1.6.3)\r\n",
      "Requirement already satisfied: flatbuffers>=23.5.26 in /opt/conda/lib/python3.10/site-packages (from tensorflow<2.16,>=2.15->tf-keras) (23.5.26)\r\n",
      "Requirement already satisfied: gast!=0.5.0,!=0.5.1,!=0.5.2,>=0.2.1 in /opt/conda/lib/python3.10/site-packages (from tensorflow<2.16,>=2.15->tf-keras) (0.5.4)\r\n",
      "Requirement already satisfied: google-pasta>=0.1.1 in /opt/conda/lib/python3.10/site-packages (from tensorflow<2.16,>=2.15->tf-keras) (0.2.0)\r\n",
      "Requirement already satisfied: h5py>=2.9.0 in /opt/conda/lib/python3.10/site-packages (from tensorflow<2.16,>=2.15->tf-keras) (3.10.0)\r\n",
      "Requirement already satisfied: libclang>=13.0.0 in /opt/conda/lib/python3.10/site-packages (from tensorflow<2.16,>=2.15->tf-keras) (16.0.6)\r\n",
      "Requirement already satisfied: ml-dtypes~=0.2.0 in /opt/conda/lib/python3.10/site-packages (from tensorflow<2.16,>=2.15->tf-keras) (0.2.0)\r\n",
      "Requirement already satisfied: numpy<2.0.0,>=1.23.5 in /opt/conda/lib/python3.10/site-packages (from tensorflow<2.16,>=2.15->tf-keras) (1.26.4)\r\n",
      "Requirement already satisfied: opt-einsum>=2.3.2 in /opt/conda/lib/python3.10/site-packages (from tensorflow<2.16,>=2.15->tf-keras) (3.3.0)\r\n",
      "Requirement already satisfied: packaging in /opt/conda/lib/python3.10/site-packages (from tensorflow<2.16,>=2.15->tf-keras) (21.3)\r\n",
      "Requirement already satisfied: protobuf!=4.21.0,!=4.21.1,!=4.21.2,!=4.21.3,!=4.21.4,!=4.21.5,<5.0.0dev,>=3.20.3 in /opt/conda/lib/python3.10/site-packages (from tensorflow<2.16,>=2.15->tf-keras) (3.20.3)\r\n",
      "Requirement already satisfied: setuptools in /opt/conda/lib/python3.10/site-packages (from tensorflow<2.16,>=2.15->tf-keras) (69.0.3)\r\n",
      "Requirement already satisfied: six>=1.12.0 in /opt/conda/lib/python3.10/site-packages (from tensorflow<2.16,>=2.15->tf-keras) (1.16.0)\r\n",
      "Requirement already satisfied: termcolor>=1.1.0 in /opt/conda/lib/python3.10/site-packages (from tensorflow<2.16,>=2.15->tf-keras) (2.4.0)\r\n",
      "Requirement already satisfied: typing-extensions>=3.6.6 in /opt/conda/lib/python3.10/site-packages (from tensorflow<2.16,>=2.15->tf-keras) (4.9.0)\r\n",
      "Requirement already satisfied: wrapt<1.15,>=1.11.0 in /opt/conda/lib/python3.10/site-packages (from tensorflow<2.16,>=2.15->tf-keras) (1.14.1)\r\n",
      "Requirement already satisfied: tensorflow-io-gcs-filesystem>=0.23.1 in /opt/conda/lib/python3.10/site-packages (from tensorflow<2.16,>=2.15->tf-keras) (0.35.0)\r\n",
      "Requirement already satisfied: grpcio<2.0,>=1.24.3 in /opt/conda/lib/python3.10/site-packages (from tensorflow<2.16,>=2.15->tf-keras) (1.59.3)\r\n",
      "Requirement already satisfied: tensorboard<2.16,>=2.15 in /opt/conda/lib/python3.10/site-packages (from tensorflow<2.16,>=2.15->tf-keras) (2.15.1)\r\n",
      "Requirement already satisfied: tensorflow-estimator<2.16,>=2.15.0 in /opt/conda/lib/python3.10/site-packages (from tensorflow<2.16,>=2.15->tf-keras) (2.15.0)\r\n",
      "Collecting keras<2.16,>=2.15.0 (from tensorflow<2.16,>=2.15->tf-keras)\r\n",
      "  Downloading keras-2.15.0-py3-none-any.whl.metadata (2.4 kB)\r\n",
      "Requirement already satisfied: wheel<1.0,>=0.23.0 in /opt/conda/lib/python3.10/site-packages (from astunparse>=1.6.0->tensorflow<2.16,>=2.15->tf-keras) (0.42.0)\r\n",
      "Requirement already satisfied: google-auth<3,>=1.6.3 in /opt/conda/lib/python3.10/site-packages (from tensorboard<2.16,>=2.15->tensorflow<2.16,>=2.15->tf-keras) (2.26.1)\r\n",
      "Requirement already satisfied: google-auth-oauthlib<2,>=0.5 in /opt/conda/lib/python3.10/site-packages (from tensorboard<2.16,>=2.15->tensorflow<2.16,>=2.15->tf-keras) (1.2.0)\r\n",
      "Requirement already satisfied: markdown>=2.6.8 in /opt/conda/lib/python3.10/site-packages (from tensorboard<2.16,>=2.15->tensorflow<2.16,>=2.15->tf-keras) (3.5.2)\r\n",
      "Requirement already satisfied: requests<3,>=2.21.0 in /opt/conda/lib/python3.10/site-packages (from tensorboard<2.16,>=2.15->tensorflow<2.16,>=2.15->tf-keras) (2.32.3)\r\n",
      "Requirement already satisfied: tensorboard-data-server<0.8.0,>=0.7.0 in /opt/conda/lib/python3.10/site-packages (from tensorboard<2.16,>=2.15->tensorflow<2.16,>=2.15->tf-keras) (0.7.2)\r\n",
      "Requirement already satisfied: werkzeug>=1.0.1 in /opt/conda/lib/python3.10/site-packages (from tensorboard<2.16,>=2.15->tensorflow<2.16,>=2.15->tf-keras) (3.0.3)\r\n",
      "Requirement already satisfied: pyparsing!=3.0.5,>=2.0.2 in /opt/conda/lib/python3.10/site-packages (from packaging->tensorflow<2.16,>=2.15->tf-keras) (3.1.1)\r\n",
      "Requirement already satisfied: cachetools<6.0,>=2.0.0 in /opt/conda/lib/python3.10/site-packages (from google-auth<3,>=1.6.3->tensorboard<2.16,>=2.15->tensorflow<2.16,>=2.15->tf-keras) (4.2.4)\r\n",
      "Requirement already satisfied: pyasn1-modules>=0.2.1 in /opt/conda/lib/python3.10/site-packages (from google-auth<3,>=1.6.3->tensorboard<2.16,>=2.15->tensorflow<2.16,>=2.15->tf-keras) (0.3.0)\r\n",
      "Requirement already satisfied: rsa<5,>=3.1.4 in /opt/conda/lib/python3.10/site-packages (from google-auth<3,>=1.6.3->tensorboard<2.16,>=2.15->tensorflow<2.16,>=2.15->tf-keras) (4.9)\r\n",
      "Requirement already satisfied: requests-oauthlib>=0.7.0 in /opt/conda/lib/python3.10/site-packages (from google-auth-oauthlib<2,>=0.5->tensorboard<2.16,>=2.15->tensorflow<2.16,>=2.15->tf-keras) (1.3.1)\r\n",
      "Requirement already satisfied: charset-normalizer<4,>=2 in /opt/conda/lib/python3.10/site-packages (from requests<3,>=2.21.0->tensorboard<2.16,>=2.15->tensorflow<2.16,>=2.15->tf-keras) (3.3.2)\r\n",
      "Requirement already satisfied: idna<4,>=2.5 in /opt/conda/lib/python3.10/site-packages (from requests<3,>=2.21.0->tensorboard<2.16,>=2.15->tensorflow<2.16,>=2.15->tf-keras) (3.6)\r\n",
      "Requirement already satisfied: urllib3<3,>=1.21.1 in /opt/conda/lib/python3.10/site-packages (from requests<3,>=2.21.0->tensorboard<2.16,>=2.15->tensorflow<2.16,>=2.15->tf-keras) (1.26.18)\r\n",
      "Requirement already satisfied: certifi>=2017.4.17 in /opt/conda/lib/python3.10/site-packages (from requests<3,>=2.21.0->tensorboard<2.16,>=2.15->tensorflow<2.16,>=2.15->tf-keras) (2024.2.2)\r\n",
      "Requirement already satisfied: MarkupSafe>=2.1.1 in /opt/conda/lib/python3.10/site-packages (from werkzeug>=1.0.1->tensorboard<2.16,>=2.15->tensorflow<2.16,>=2.15->tf-keras) (2.1.3)\r\n",
      "Requirement already satisfied: pyasn1<0.6.0,>=0.4.6 in /opt/conda/lib/python3.10/site-packages (from pyasn1-modules>=0.2.1->google-auth<3,>=1.6.3->tensorboard<2.16,>=2.15->tensorflow<2.16,>=2.15->tf-keras) (0.5.1)\r\n",
      "Requirement already satisfied: oauthlib>=3.0.0 in /opt/conda/lib/python3.10/site-packages (from requests-oauthlib>=0.7.0->google-auth-oauthlib<2,>=0.5->tensorboard<2.16,>=2.15->tensorflow<2.16,>=2.15->tf-keras) (3.2.2)\r\n",
      "Downloading keras-2.15.0-py3-none-any.whl (1.7 MB)\r\n",
      "\u001b[2K   \u001b[90m━━━━━━━━━━━━━━━━━━━━━━━━━━━━━━━━━━━━━━━━\u001b[0m \u001b[32m1.7/1.7 MB\u001b[0m \u001b[31m39.7 MB/s\u001b[0m eta \u001b[36m0:00:00\u001b[0m\r\n",
      "\u001b[?25hInstalling collected packages: keras\r\n",
      "  Attempting uninstall: keras\r\n",
      "    Found existing installation: keras 3.3.3\r\n",
      "    Uninstalling keras-3.3.3:\r\n",
      "      Successfully uninstalled keras-3.3.3\r\n",
      "\u001b[31mERROR: pip's dependency resolver does not currently take into account all the packages that are installed. This behaviour is the source of the following dependency conflicts.\r\n",
      "tensorflow-decision-forests 1.8.1 requires wurlitzer, which is not installed.\u001b[0m\u001b[31m\r\n",
      "\u001b[0mSuccessfully installed keras-2.15.0\r\n",
      "TF_USE_LEGACY_KERAS: None\n",
      "TF_USE_LEGACY_KERAS: 1\n",
      "Collecting ktrain\r\n",
      "  Downloading ktrain-0.41.4.tar.gz (25.3 MB)\r\n",
      "\u001b[2K     \u001b[90m━━━━━━━━━━━━━━━━━━━━━━━━━━━━━━━━━━━━━━━━\u001b[0m \u001b[32m25.3/25.3 MB\u001b[0m \u001b[31m67.9 MB/s\u001b[0m eta \u001b[36m0:00:00\u001b[0m\r\n",
      "\u001b[?25h  Preparing metadata (setup.py) ... \u001b[?25l-\b \bdone\r\n",
      "\u001b[?25hRequirement already satisfied: scikit-learn in /opt/conda/lib/python3.10/site-packages (from ktrain) (1.2.2)\r\n",
      "Requirement already satisfied: matplotlib>=3.0.0 in /opt/conda/lib/python3.10/site-packages (from ktrain) (3.7.5)\r\n",
      "Requirement already satisfied: pandas>=1.0.1 in /opt/conda/lib/python3.10/site-packages (from ktrain) (2.2.1)\r\n",
      "Requirement already satisfied: fastprogress>=0.1.21 in /opt/conda/lib/python3.10/site-packages (from ktrain) (1.0.3)\r\n",
      "Requirement already satisfied: requests in /opt/conda/lib/python3.10/site-packages (from ktrain) (2.32.3)\r\n",
      "Requirement already satisfied: joblib in /opt/conda/lib/python3.10/site-packages (from ktrain) (1.4.2)\r\n",
      "Requirement already satisfied: packaging in /opt/conda/lib/python3.10/site-packages (from ktrain) (21.3)\r\n",
      "Collecting langdetect (from ktrain)\r\n",
      "  Downloading langdetect-1.0.9.tar.gz (981 kB)\r\n",
      "\u001b[2K     \u001b[90m━━━━━━━━━━━━━━━━━━━━━━━━━━━━━━━━━━━━━━\u001b[0m \u001b[32m981.5/981.5 kB\u001b[0m \u001b[31m47.5 MB/s\u001b[0m eta \u001b[36m0:00:00\u001b[0m\r\n",
      "\u001b[?25h  Preparing metadata (setup.py) ... \u001b[?25l-\b \bdone\r\n",
      "\u001b[?25hRequirement already satisfied: jieba in /opt/conda/lib/python3.10/site-packages (from ktrain) (0.42.1)\r\n",
      "Requirement already satisfied: charset-normalizer in /opt/conda/lib/python3.10/site-packages (from ktrain) (3.3.2)\r\n",
      "Collecting chardet (from ktrain)\r\n",
      "  Downloading chardet-5.2.0-py3-none-any.whl.metadata (3.4 kB)\r\n",
      "Collecting syntok>1.3.3 (from ktrain)\r\n",
      "  Downloading syntok-1.4.4-py3-none-any.whl.metadata (10 kB)\r\n",
      "Collecting tika (from ktrain)\r\n",
      "  Downloading tika-2.6.0.tar.gz (27 kB)\r\n",
      "  Preparing metadata (setup.py) ... \u001b[?25l-\b \bdone\r\n",
      "\u001b[?25hRequirement already satisfied: transformers in /opt/conda/lib/python3.10/site-packages (from ktrain) (4.41.2)\r\n",
      "Requirement already satisfied: sentencepiece in /opt/conda/lib/python3.10/site-packages (from ktrain) (0.2.0)\r\n",
      "Collecting keras_bert>=0.86.0 (from ktrain)\r\n",
      "  Downloading keras-bert-0.89.0.tar.gz (25 kB)\r\n",
      "  Preparing metadata (setup.py) ... \u001b[?25l-\b \bdone\r\n",
      "\u001b[?25hCollecting whoosh (from ktrain)\r\n",
      "  Downloading Whoosh-2.7.4-py2.py3-none-any.whl.metadata (3.1 kB)\r\n",
      "Requirement already satisfied: numpy in /opt/conda/lib/python3.10/site-packages (from keras_bert>=0.86.0->ktrain) (1.26.4)\r\n",
      "Collecting keras-transformer==0.40.0 (from keras_bert>=0.86.0->ktrain)\r\n",
      "  Downloading keras-transformer-0.40.0.tar.gz (9.7 kB)\r\n",
      "  Preparing metadata (setup.py) ... \u001b[?25l-\b \bdone\r\n",
      "\u001b[?25hCollecting keras-pos-embd==0.13.0 (from keras-transformer==0.40.0->keras_bert>=0.86.0->ktrain)\r\n",
      "  Downloading keras-pos-embd-0.13.0.tar.gz (5.6 kB)\r\n",
      "  Preparing metadata (setup.py) ... \u001b[?25l-\b \bdone\r\n",
      "\u001b[?25hCollecting keras-multi-head==0.29.0 (from keras-transformer==0.40.0->keras_bert>=0.86.0->ktrain)\r\n",
      "  Downloading keras-multi-head-0.29.0.tar.gz (13 kB)\r\n",
      "  Preparing metadata (setup.py) ... \u001b[?25l-\b \bdone\r\n",
      "\u001b[?25hCollecting keras-layer-normalization==0.16.0 (from keras-transformer==0.40.0->keras_bert>=0.86.0->ktrain)\r\n",
      "  Downloading keras-layer-normalization-0.16.0.tar.gz (3.9 kB)\r\n",
      "  Preparing metadata (setup.py) ... \u001b[?25l-\b \bdone\r\n",
      "\u001b[?25hCollecting keras-position-wise-feed-forward==0.8.0 (from keras-transformer==0.40.0->keras_bert>=0.86.0->ktrain)\r\n",
      "  Downloading keras-position-wise-feed-forward-0.8.0.tar.gz (4.1 kB)\r\n",
      "  Preparing metadata (setup.py) ... \u001b[?25l-\b \bdone\r\n",
      "\u001b[?25hCollecting keras-embed-sim==0.10.0 (from keras-transformer==0.40.0->keras_bert>=0.86.0->ktrain)\r\n",
      "  Downloading keras-embed-sim-0.10.0.tar.gz (3.6 kB)\r\n",
      "  Preparing metadata (setup.py) ... \u001b[?25l-\b \bdone\r\n",
      "\u001b[?25hCollecting keras-self-attention==0.51.0 (from keras-multi-head==0.29.0->keras-transformer==0.40.0->keras_bert>=0.86.0->ktrain)\r\n",
      "  Downloading keras-self-attention-0.51.0.tar.gz (11 kB)\r\n",
      "  Preparing metadata (setup.py) ... \u001b[?25l-\b \bdone\r\n",
      "\u001b[?25hRequirement already satisfied: contourpy>=1.0.1 in /opt/conda/lib/python3.10/site-packages (from matplotlib>=3.0.0->ktrain) (1.2.0)\r\n",
      "Requirement already satisfied: cycler>=0.10 in /opt/conda/lib/python3.10/site-packages (from matplotlib>=3.0.0->ktrain) (0.12.1)\r\n",
      "Requirement already satisfied: fonttools>=4.22.0 in /opt/conda/lib/python3.10/site-packages (from matplotlib>=3.0.0->ktrain) (4.47.0)\r\n",
      "Requirement already satisfied: kiwisolver>=1.0.1 in /opt/conda/lib/python3.10/site-packages (from matplotlib>=3.0.0->ktrain) (1.4.5)\r\n",
      "Requirement already satisfied: pillow>=6.2.0 in /opt/conda/lib/python3.10/site-packages (from matplotlib>=3.0.0->ktrain) (9.5.0)\r\n",
      "Requirement already satisfied: pyparsing>=2.3.1 in /opt/conda/lib/python3.10/site-packages (from matplotlib>=3.0.0->ktrain) (3.1.1)\r\n",
      "Requirement already satisfied: python-dateutil>=2.7 in /opt/conda/lib/python3.10/site-packages (from matplotlib>=3.0.0->ktrain) (2.9.0.post0)\r\n",
      "Requirement already satisfied: pytz>=2020.1 in /opt/conda/lib/python3.10/site-packages (from pandas>=1.0.1->ktrain) (2023.3.post1)\r\n",
      "Requirement already satisfied: tzdata>=2022.7 in /opt/conda/lib/python3.10/site-packages (from pandas>=1.0.1->ktrain) (2023.4)\r\n",
      "Requirement already satisfied: regex>2016 in /opt/conda/lib/python3.10/site-packages (from syntok>1.3.3->ktrain) (2023.12.25)\r\n",
      "Requirement already satisfied: six in /opt/conda/lib/python3.10/site-packages (from langdetect->ktrain) (1.16.0)\r\n",
      "Requirement already satisfied: idna<4,>=2.5 in /opt/conda/lib/python3.10/site-packages (from requests->ktrain) (3.6)\r\n",
      "Requirement already satisfied: urllib3<3,>=1.21.1 in /opt/conda/lib/python3.10/site-packages (from requests->ktrain) (1.26.18)\r\n",
      "Requirement already satisfied: certifi>=2017.4.17 in /opt/conda/lib/python3.10/site-packages (from requests->ktrain) (2024.2.2)\r\n",
      "Requirement already satisfied: scipy>=1.3.2 in /opt/conda/lib/python3.10/site-packages (from scikit-learn->ktrain) (1.11.4)\r\n",
      "Requirement already satisfied: threadpoolctl>=2.0.0 in /opt/conda/lib/python3.10/site-packages (from scikit-learn->ktrain) (3.2.0)\r\n",
      "Requirement already satisfied: setuptools in /opt/conda/lib/python3.10/site-packages (from tika->ktrain) (69.0.3)\r\n",
      "Requirement already satisfied: filelock in /opt/conda/lib/python3.10/site-packages (from transformers->ktrain) (3.13.1)\r\n",
      "Requirement already satisfied: huggingface-hub<1.0,>=0.23.0 in /opt/conda/lib/python3.10/site-packages (from transformers->ktrain) (0.23.2)\r\n",
      "Requirement already satisfied: pyyaml>=5.1 in /opt/conda/lib/python3.10/site-packages (from transformers->ktrain) (6.0.1)\r\n",
      "Requirement already satisfied: tokenizers<0.20,>=0.19 in /opt/conda/lib/python3.10/site-packages (from transformers->ktrain) (0.19.1)\r\n",
      "Requirement already satisfied: safetensors>=0.4.1 in /opt/conda/lib/python3.10/site-packages (from transformers->ktrain) (0.4.3)\r\n",
      "Requirement already satisfied: tqdm>=4.27 in /opt/conda/lib/python3.10/site-packages (from transformers->ktrain) (4.66.4)\r\n",
      "Requirement already satisfied: fsspec>=2023.5.0 in /opt/conda/lib/python3.10/site-packages (from huggingface-hub<1.0,>=0.23.0->transformers->ktrain) (2024.3.1)\r\n",
      "Requirement already satisfied: typing-extensions>=3.7.4.3 in /opt/conda/lib/python3.10/site-packages (from huggingface-hub<1.0,>=0.23.0->transformers->ktrain) (4.9.0)\r\n",
      "Downloading syntok-1.4.4-py3-none-any.whl (24 kB)\r\n",
      "Downloading chardet-5.2.0-py3-none-any.whl (199 kB)\r\n",
      "\u001b[2K   \u001b[90m━━━━━━━━━━━━━━━━━━━━━━━━━━━━━━━━━━━━━━━━\u001b[0m \u001b[32m199.4/199.4 kB\u001b[0m \u001b[31m15.0 MB/s\u001b[0m eta \u001b[36m0:00:00\u001b[0m\r\n",
      "\u001b[?25hDownloading Whoosh-2.7.4-py2.py3-none-any.whl (468 kB)\r\n",
      "\u001b[2K   \u001b[90m━━━━━━━━━━━━━━━━━━━━━━━━━━━━━━━━━━━━━━━━\u001b[0m \u001b[32m468.8/468.8 kB\u001b[0m \u001b[31m27.9 MB/s\u001b[0m eta \u001b[36m0:00:00\u001b[0m\r\n",
      "\u001b[?25hBuilding wheels for collected packages: ktrain, keras_bert, keras-transformer, keras-embed-sim, keras-layer-normalization, keras-multi-head, keras-pos-embd, keras-position-wise-feed-forward, keras-self-attention, langdetect, tika\r\n",
      "  Building wheel for ktrain (setup.py) ... \u001b[?25l-\b \b\\\b \bdone\r\n",
      "\u001b[?25h  Created wheel for ktrain: filename=ktrain-0.41.4-py3-none-any.whl size=25316933 sha256=81f9b1de842bd828caaec7e1d88dd2fca16bfdd57c2aaa2a1cfb50b655c50d59\r\n",
      "  Stored in directory: /root/.cache/pip/wheels/fa/6a/9c/8a873b38bbd8bc207d33c64726bd18f7ef85f8e70dc3ac2e4b\r\n",
      "  Building wheel for keras_bert (setup.py) ... \u001b[?25l-\b \b\\\b \bdone\r\n",
      "\u001b[?25h  Created wheel for keras_bert: filename=keras_bert-0.89.0-py3-none-any.whl size=33499 sha256=a126771903b401ba63dd4c1f6c4cf7d872f4a95e320a5fd22817043e174ee2a4\r\n",
      "  Stored in directory: /root/.cache/pip/wheels/89/0c/04/646b6fdf6375911b42c8d540a8a3fda8d5d77634e5dcbe7b26\r\n",
      "  Building wheel for keras-transformer (setup.py) ... \u001b[?25l-\b \b\\\b \bdone\r\n",
      "\u001b[?25h  Created wheel for keras-transformer: filename=keras_transformer-0.40.0-py3-none-any.whl size=12286 sha256=d75f728b0cc8c5dcd0a6d009fa1b0e2f12efea53b647bf30fa2758381bdc1c21\r\n",
      "  Stored in directory: /root/.cache/pip/wheels/f2/cb/22/75a0ad376129177f7c95c0d91331a18f5368fd657f4035ba7c\r\n",
      "  Building wheel for keras-embed-sim (setup.py) ... \u001b[?25l-\b \b\\\b \bdone\r\n",
      "\u001b[?25h  Created wheel for keras-embed-sim: filename=keras_embed_sim-0.10.0-py3-none-any.whl size=3943 sha256=4cc834e3c2d1100a3604b81e9bd65ec2c68a95c45f1763c58d428a68678b212f\r\n",
      "  Stored in directory: /root/.cache/pip/wheels/82/32/c7/fd35d0d1b840a6c7cbd4343f808d10d0f7b87d271a4dbe796f\r\n",
      "  Building wheel for keras-layer-normalization (setup.py) ... \u001b[?25l-\b \b\\\b \bdone\r\n",
      "\u001b[?25h  Created wheel for keras-layer-normalization: filename=keras_layer_normalization-0.16.0-py3-none-any.whl size=4653 sha256=5c10afacbedfe52423fe0421441560099e128bca396b519fbe8e7e5281d42eac\r\n",
      "  Stored in directory: /root/.cache/pip/wheels/ed/3a/4b/21db23c0cc56c4b219616e181f258eb7c57d36cc5d056fae9a\r\n",
      "  Building wheel for keras-multi-head (setup.py) ... \u001b[?25l-\b \b\\\b \bdone\r\n",
      "\u001b[?25h  Created wheel for keras-multi-head: filename=keras_multi_head-0.29.0-py3-none-any.whl size=14975 sha256=d665cf5c258a59c67fa70047659214a5fed8f3d5678c8165740bcefd806ce2a1\r\n",
      "  Stored in directory: /root/.cache/pip/wheels/cb/23/4b/06d7ae21714f70fcc25b48f972cc8e5e7f4b6b764a038b509d\r\n",
      "  Building wheel for keras-pos-embd (setup.py) ... \u001b[?25l-\b \b\\\b \bdone\r\n",
      "\u001b[?25h  Created wheel for keras-pos-embd: filename=keras_pos_embd-0.13.0-py3-none-any.whl size=6946 sha256=fe2f3d4642095a8684edab6ebe58ba41e0b143e8c5ac66084aa99390ce9d9dc0\r\n",
      "  Stored in directory: /root/.cache/pip/wheels/78/07/1b/b1ca47b6ac338554b75c8f52c54e6a2bfbe1b07d79579979a4\r\n",
      "  Building wheel for keras-position-wise-feed-forward (setup.py) ... \u001b[?25l-\b \b\\\b \bdone\r\n",
      "\u001b[?25h  Created wheel for keras-position-wise-feed-forward: filename=keras_position_wise_feed_forward-0.8.0-py3-none-any.whl size=4968 sha256=730d33756c100cb384a7b818c9f5bbaea179a9e64d610c8f667358e0dd1673e8\r\n",
      "  Stored in directory: /root/.cache/pip/wheels/c1/6a/04/d1706a53b23b2cb5f9a0a76269bf87925daa1bca09eac01b21\r\n",
      "  Building wheel for keras-self-attention (setup.py) ... \u001b[?25l-\b \b\\\b \bdone\r\n",
      "\u001b[?25h  Created wheel for keras-self-attention: filename=keras_self_attention-0.51.0-py3-none-any.whl size=18895 sha256=48fafc48872ef8654f13fd59ba094b6b6b87e5b30515a053bd8171b5728d9627\r\n",
      "  Stored in directory: /root/.cache/pip/wheels/b8/f7/24/607b483144fb9c47b4ba2c5fba6b68e54aeee2d5bf6c05302e\r\n",
      "  Building wheel for langdetect (setup.py) ... \u001b[?25l-\b \bdone\r\n",
      "\u001b[?25h  Created wheel for langdetect: filename=langdetect-1.0.9-py3-none-any.whl size=993225 sha256=8e411752a7aa1fa301d5028bb8619e9b1ba3dbe28dab8bfc59f474f60d056723\r\n",
      "  Stored in directory: /root/.cache/pip/wheels/95/03/7d/59ea870c70ce4e5a370638b5462a7711ab78fba2f655d05106\r\n",
      "  Building wheel for tika (setup.py) ... \u001b[?25l-\b \bdone\r\n",
      "\u001b[?25h  Created wheel for tika: filename=tika-2.6.0-py3-none-any.whl size=32622 sha256=69a0d8cf1ef822aa71e79ee885e35807c1d184001c0fd5ecb7eb9c41808c552f\r\n",
      "  Stored in directory: /root/.cache/pip/wheels/5f/71/c7/b757709531121b1700cffda5b6b0d4aad095fb507ec84316d0\r\n",
      "Successfully built ktrain keras_bert keras-transformer keras-embed-sim keras-layer-normalization keras-multi-head keras-pos-embd keras-position-wise-feed-forward keras-self-attention langdetect tika\r\n",
      "Installing collected packages: whoosh, syntok, langdetect, keras-self-attention, keras-position-wise-feed-forward, keras-pos-embd, keras-layer-normalization, keras-embed-sim, chardet, tika, keras-multi-head, keras-transformer, keras_bert, ktrain\r\n",
      "Successfully installed chardet-5.2.0 keras-embed-sim-0.10.0 keras-layer-normalization-0.16.0 keras-multi-head-0.29.0 keras-pos-embd-0.13.0 keras-position-wise-feed-forward-0.8.0 keras-self-attention-0.51.0 keras-transformer-0.40.0 keras_bert-0.89.0 ktrain-0.41.4 langdetect-1.0.9 syntok-1.4.4 tika-2.6.0 whoosh-2.7.4\r\n"
     ]
    }
   ],
   "source": [
    "import os\n",
    "# try:\n",
    "#   import ktrain\n",
    "# except:\n",
    "#   !pip install ktrain\n",
    "#   os.kill(os.getpid(), 9)\n",
    "# import ktrain\n",
    "\n",
    "from sklearn.model_selection import train_test_split\n",
    "!pip install tf-keras\n",
    "print(\"TF_USE_LEGACY_KERAS:\", os.getenv(\"TF_USE_LEGACY_KERAS\"))\n",
    "os.environ['TF_USE_LEGACY_KERAS'] = '1'\n",
    "print(\"TF_USE_LEGACY_KERAS:\", os.getenv(\"TF_USE_LEGACY_KERAS\"))\n",
    "\n",
    "try:\n",
    "  import ktrain\n",
    "except:\n",
    "  !pip install ktrain\n",
    "  import ktrain\n",
    "from ktrain import text\n",
    "from ktrain.text import texts_from_df\n",
    "\n",
    "\n",
    "import seaborn as sns\n",
    "import matplotlib.pyplot as plt\n",
    "import re\n",
    "\n",
    "import spacy\n",
    "spacy.prefer_gpu()\n",
    "nlp = spacy.load(\"en_core_web_sm\")\n",
    "# spacy.require_gpu()\n",
    "\n",
    "# wordcloud \n",
    "from PIL import Image\n",
    "from wordcloud import WordCloud, STOPWORDS, ImageColorGenerator"
   ]
  },
  {
   "cell_type": "code",
   "execution_count": 3,
   "id": "d88689b1",
   "metadata": {
    "execution": {
     "iopub.execute_input": "2024-06-24T15:57:14.925524Z",
     "iopub.status.busy": "2024-06-24T15:57:14.924920Z",
     "iopub.status.idle": "2024-06-24T15:57:14.977179Z",
     "shell.execute_reply": "2024-06-24T15:57:14.976090Z"
    },
    "papermill": {
     "duration": 0.072428,
     "end_time": "2024-06-24T15:57:14.979205",
     "exception": false,
     "start_time": "2024-06-24T15:57:14.906777",
     "status": "completed"
    },
    "tags": []
   },
   "outputs": [
    {
     "name": "stdout",
     "output_type": "stream",
     "text": [
      "Mon Jun 24 15:57:14 2024       \n",
      "+---------------------------------------------------------------------------------------+\n",
      "| NVIDIA-SMI 535.129.03             Driver Version: 535.129.03   CUDA Version: 12.2     |\n",
      "|-----------------------------------------+----------------------+----------------------+\n",
      "| GPU  Name                 Persistence-M | Bus-Id        Disp.A | Volatile Uncorr. ECC |\n",
      "| Fan  Temp   Perf          Pwr:Usage/Cap |         Memory-Usage | GPU-Util  Compute M. |\n",
      "|                                         |                      |               MIG M. |\n",
      "|=========================================+======================+======================|\n",
      "|   0  Tesla P100-PCIE-16GB           Off | 00000000:00:04.0 Off |                    0 |\n",
      "| N/A   36C    P0              32W / 250W |    278MiB / 16384MiB |      0%      Default |\n",
      "|                                         |                      |                  N/A |\n",
      "+-----------------------------------------+----------------------+----------------------+\n",
      "                                                                                         \n",
      "+---------------------------------------------------------------------------------------+\n",
      "| Processes:                                                                            |\n",
      "|  GPU   GI   CI        PID   Type   Process name                            GPU Memory |\n",
      "|        ID   ID                                                             Usage      |\n",
      "|=======================================================================================|\n",
      "+---------------------------------------------------------------------------------------+\n"
     ]
    }
   ],
   "source": [
    "gpu_info = !nvidia-smi\n",
    "gpu_info = '\\n'.join(gpu_info)\n",
    "if gpu_info.find('failed') >= 0:\n",
    "  print('Not connected to a GPU')\n",
    "else:\n",
    "  print(gpu_info)"
   ]
  },
  {
   "cell_type": "code",
   "execution_count": 4,
   "id": "0c9b68bd",
   "metadata": {
    "execution": {
     "iopub.execute_input": "2024-06-24T15:57:15.016474Z",
     "iopub.status.busy": "2024-06-24T15:57:15.015750Z",
     "iopub.status.idle": "2024-06-24T15:58:04.667627Z",
     "shell.execute_reply": "2024-06-24T15:58:04.666548Z"
    },
    "papermill": {
     "duration": 49.672492,
     "end_time": "2024-06-24T15:58:04.670092",
     "exception": false,
     "start_time": "2024-06-24T15:57:14.997600",
     "status": "completed"
    },
    "tags": []
   },
   "outputs": [],
   "source": [
    "reviews = pd.read_csv(\"/kaggle/input/steam-reviews/dataset.csv\")"
   ]
  },
  {
   "cell_type": "code",
   "execution_count": 5,
   "id": "e99f8175",
   "metadata": {
    "execution": {
     "iopub.execute_input": "2024-06-24T15:58:04.707316Z",
     "iopub.status.busy": "2024-06-24T15:58:04.706988Z",
     "iopub.status.idle": "2024-06-24T15:58:04.726999Z",
     "shell.execute_reply": "2024-06-24T15:58:04.726053Z"
    },
    "papermill": {
     "duration": 0.040415,
     "end_time": "2024-06-24T15:58:04.728919",
     "exception": false,
     "start_time": "2024-06-24T15:58:04.688504",
     "status": "completed"
    },
    "tags": []
   },
   "outputs": [
    {
     "data": {
      "text/html": [
       "<div>\n",
       "<style scoped>\n",
       "    .dataframe tbody tr th:only-of-type {\n",
       "        vertical-align: middle;\n",
       "    }\n",
       "\n",
       "    .dataframe tbody tr th {\n",
       "        vertical-align: top;\n",
       "    }\n",
       "\n",
       "    .dataframe thead th {\n",
       "        text-align: right;\n",
       "    }\n",
       "</style>\n",
       "<table border=\"1\" class=\"dataframe\">\n",
       "  <thead>\n",
       "    <tr style=\"text-align: right;\">\n",
       "      <th></th>\n",
       "      <th>app_id</th>\n",
       "      <th>app_name</th>\n",
       "      <th>review_text</th>\n",
       "      <th>review_score</th>\n",
       "      <th>review_votes</th>\n",
       "    </tr>\n",
       "  </thead>\n",
       "  <tbody>\n",
       "    <tr>\n",
       "      <th>0</th>\n",
       "      <td>10</td>\n",
       "      <td>Counter-Strike</td>\n",
       "      <td>Ruined my life.</td>\n",
       "      <td>1</td>\n",
       "      <td>0</td>\n",
       "    </tr>\n",
       "    <tr>\n",
       "      <th>1</th>\n",
       "      <td>10</td>\n",
       "      <td>Counter-Strike</td>\n",
       "      <td>This will be more of a ''my experience with th...</td>\n",
       "      <td>1</td>\n",
       "      <td>1</td>\n",
       "    </tr>\n",
       "    <tr>\n",
       "      <th>2</th>\n",
       "      <td>10</td>\n",
       "      <td>Counter-Strike</td>\n",
       "      <td>This game saved my virginity.</td>\n",
       "      <td>1</td>\n",
       "      <td>0</td>\n",
       "    </tr>\n",
       "    <tr>\n",
       "      <th>3</th>\n",
       "      <td>10</td>\n",
       "      <td>Counter-Strike</td>\n",
       "      <td>• Do you like original games? • Do you like ga...</td>\n",
       "      <td>1</td>\n",
       "      <td>0</td>\n",
       "    </tr>\n",
       "    <tr>\n",
       "      <th>4</th>\n",
       "      <td>10</td>\n",
       "      <td>Counter-Strike</td>\n",
       "      <td>Easy to learn, hard to master.</td>\n",
       "      <td>1</td>\n",
       "      <td>1</td>\n",
       "    </tr>\n",
       "  </tbody>\n",
       "</table>\n",
       "</div>"
      ],
      "text/plain": [
       "   app_id        app_name                                        review_text  \\\n",
       "0      10  Counter-Strike                                    Ruined my life.   \n",
       "1      10  Counter-Strike  This will be more of a ''my experience with th...   \n",
       "2      10  Counter-Strike                      This game saved my virginity.   \n",
       "3      10  Counter-Strike  • Do you like original games? • Do you like ga...   \n",
       "4      10  Counter-Strike           Easy to learn, hard to master.             \n",
       "\n",
       "   review_score  review_votes  \n",
       "0             1             0  \n",
       "1             1             1  \n",
       "2             1             0  \n",
       "3             1             0  \n",
       "4             1             1  "
      ]
     },
     "execution_count": 5,
     "metadata": {},
     "output_type": "execute_result"
    }
   ],
   "source": [
    "reviews.head()"
   ]
  },
  {
   "cell_type": "code",
   "execution_count": 6,
   "id": "9366e46e",
   "metadata": {
    "execution": {
     "iopub.execute_input": "2024-06-24T15:58:04.764967Z",
     "iopub.status.busy": "2024-06-24T15:58:04.764484Z",
     "iopub.status.idle": "2024-06-24T15:58:04.783716Z",
     "shell.execute_reply": "2024-06-24T15:58:04.782767Z"
    },
    "papermill": {
     "duration": 0.039332,
     "end_time": "2024-06-24T15:58:04.785680",
     "exception": false,
     "start_time": "2024-06-24T15:58:04.746348",
     "status": "completed"
    },
    "tags": []
   },
   "outputs": [
    {
     "name": "stdout",
     "output_type": "stream",
     "text": [
      "<class 'pandas.core.frame.DataFrame'>\n",
      "RangeIndex: 6417106 entries, 0 to 6417105\n",
      "Data columns (total 5 columns):\n",
      " #   Column        Dtype \n",
      "---  ------        ----- \n",
      " 0   app_id        int64 \n",
      " 1   app_name      object\n",
      " 2   review_text   object\n",
      " 3   review_score  int64 \n",
      " 4   review_votes  int64 \n",
      "dtypes: int64(3), object(2)\n",
      "memory usage: 244.8+ MB\n"
     ]
    }
   ],
   "source": [
    "reviews.info()"
   ]
  },
  {
   "cell_type": "markdown",
   "id": "73fed2a6",
   "metadata": {
    "papermill": {
     "duration": 0.019388,
     "end_time": "2024-06-24T15:58:04.823087",
     "exception": false,
     "start_time": "2024-06-24T15:58:04.803699",
     "status": "completed"
    },
    "tags": []
   },
   "source": [
    "## Prepare Data"
   ]
  },
  {
   "cell_type": "code",
   "execution_count": 7,
   "id": "9410e865",
   "metadata": {
    "execution": {
     "iopub.execute_input": "2024-06-24T15:58:04.860958Z",
     "iopub.status.busy": "2024-06-24T15:58:04.860578Z",
     "iopub.status.idle": "2024-06-24T15:58:11.905035Z",
     "shell.execute_reply": "2024-06-24T15:58:11.904155Z"
    },
    "papermill": {
     "duration": 7.066045,
     "end_time": "2024-06-24T15:58:11.907541",
     "exception": false,
     "start_time": "2024-06-24T15:58:04.841496",
     "status": "completed"
    },
    "tags": []
   },
   "outputs": [],
   "source": [
    "# first things first remove any duplicates\n",
    "reviews.drop_duplicates(inplace=True)"
   ]
  },
  {
   "cell_type": "code",
   "execution_count": 8,
   "id": "74babfeb",
   "metadata": {
    "execution": {
     "iopub.execute_input": "2024-06-24T15:58:11.950914Z",
     "iopub.status.busy": "2024-06-24T15:58:11.950012Z",
     "iopub.status.idle": "2024-06-24T15:58:14.695834Z",
     "shell.execute_reply": "2024-06-24T15:58:14.695018Z"
    },
    "papermill": {
     "duration": 2.769798,
     "end_time": "2024-06-24T15:58:14.698066",
     "exception": false,
     "start_time": "2024-06-24T15:58:11.928268",
     "status": "completed"
    },
    "tags": []
   },
   "outputs": [],
   "source": [
    "# drop reviews that are exactly the same - a rare event\n",
    "reviews.drop_duplicates(subset=\"review_text\", inplace=True)"
   ]
  },
  {
   "cell_type": "code",
   "execution_count": 9,
   "id": "ba938483",
   "metadata": {
    "execution": {
     "iopub.execute_input": "2024-06-24T15:58:14.734916Z",
     "iopub.status.busy": "2024-06-24T15:58:14.734578Z",
     "iopub.status.idle": "2024-06-24T15:58:14.740205Z",
     "shell.execute_reply": "2024-06-24T15:58:14.739360Z"
    },
    "papermill": {
     "duration": 0.026243,
     "end_time": "2024-06-24T15:58:14.742195",
     "exception": false,
     "start_time": "2024-06-24T15:58:14.715952",
     "status": "completed"
    },
    "tags": []
   },
   "outputs": [
    {
     "data": {
      "text/plain": [
       "(4473474, 5)"
      ]
     },
     "execution_count": 9,
     "metadata": {},
     "output_type": "execute_result"
    }
   ],
   "source": [
    "reviews.shape"
   ]
  },
  {
   "cell_type": "code",
   "execution_count": 10,
   "id": "62de7358",
   "metadata": {
    "execution": {
     "iopub.execute_input": "2024-06-24T15:58:14.778292Z",
     "iopub.status.busy": "2024-06-24T15:58:14.778006Z",
     "iopub.status.idle": "2024-06-24T15:58:15.348618Z",
     "shell.execute_reply": "2024-06-24T15:58:15.347621Z"
    },
    "papermill": {
     "duration": 0.590931,
     "end_time": "2024-06-24T15:58:15.350634",
     "exception": false,
     "start_time": "2024-06-24T15:58:14.759703",
     "status": "completed"
    },
    "tags": []
   },
   "outputs": [
    {
     "data": {
      "image/png": "[encoded data removed]",
      "text/plain": [
       "<Figure size 1400x480 with 1 Axes>"
      ]
     },
     "metadata": {},
     "output_type": "display_data"
    }
   ],
   "source": [
    "fig = plt.figure()\n",
    "fig.set_figwidth(14)\n",
    "reviews[\"app_name\"].value_counts(normalize=True, dropna=False).head(20).plot(kind=\"bar\")\n",
    "plt.title(\"Top 20 Reviewed Games on Steam\")\n",
    "plt.xlabel(\"App Name\")\n",
    "plt.show()"
   ]
  },
  {
   "cell_type": "code",
   "execution_count": 11,
   "id": "4981f269",
   "metadata": {
    "execution": {
     "iopub.execute_input": "2024-06-24T15:58:15.389262Z",
     "iopub.status.busy": "2024-06-24T15:58:15.388936Z",
     "iopub.status.idle": "2024-06-24T15:58:17.440172Z",
     "shell.execute_reply": "2024-06-24T15:58:17.439333Z"
    },
    "papermill": {
     "duration": 2.073011,
     "end_time": "2024-06-24T15:58:17.442449",
     "exception": false,
     "start_time": "2024-06-24T15:58:15.369438",
     "status": "completed"
    },
    "tags": []
   },
   "outputs": [],
   "source": [
    "# remove null values\n",
    "reviews = reviews[~reviews[\"app_name\"].isnull()].copy(deep=True)\n",
    "reviews = reviews[~reviews[\"review_text\"].isnull()].copy(deep=True)"
   ]
  },
  {
   "cell_type": "code",
   "execution_count": 12,
   "id": "1acfe4ed",
   "metadata": {
    "execution": {
     "iopub.execute_input": "2024-06-24T15:58:17.480889Z",
     "iopub.status.busy": "2024-06-24T15:58:17.480604Z",
     "iopub.status.idle": "2024-06-24T15:58:17.972337Z",
     "shell.execute_reply": "2024-06-24T15:58:17.971297Z"
    },
    "papermill": {
     "duration": 0.513196,
     "end_time": "2024-06-24T15:58:17.974514",
     "exception": false,
     "start_time": "2024-06-24T15:58:17.461318",
     "status": "completed"
    },
    "tags": []
   },
   "outputs": [
    {
     "data": {
      "image/png": "[encoded data removed]",
      "text/plain": [
       "<Figure size 1400x480 with 1 Axes>"
      ]
     },
     "metadata": {},
     "output_type": "display_data"
    }
   ],
   "source": [
    "fig = plt.figure()\n",
    "fig.set_figwidth(14)\n",
    "reviews[\"app_name\"].value_counts(normalize=True, dropna=False).head(20).plot(kind=\"bar\")\n",
    "plt.title(\"Top 20 Reviewed Games on Steam\")\n",
    "plt.xlabel(\"App Name\")\n",
    "plt.show()"
   ]
  },
  {
   "cell_type": "code",
   "execution_count": 13,
   "id": "549f8eb4",
   "metadata": {
    "execution": {
     "iopub.execute_input": "2024-06-24T15:58:18.015051Z",
     "iopub.status.busy": "2024-06-24T15:58:18.014749Z",
     "iopub.status.idle": "2024-06-24T15:58:19.404191Z",
     "shell.execute_reply": "2024-06-24T15:58:19.403386Z"
    },
    "papermill": {
     "duration": 1.411908,
     "end_time": "2024-06-24T15:58:19.406527",
     "exception": false,
     "start_time": "2024-06-24T15:58:17.994619",
     "status": "completed"
    },
    "tags": []
   },
   "outputs": [],
   "source": [
    "# remove reviews that only say early access review\n",
    "reviews = reviews[(reviews[\"review_text\"] != \" Early Access Review\")].copy(deep=True)"
   ]
  },
  {
   "cell_type": "code",
   "execution_count": 14,
   "id": "bcbff85d",
   "metadata": {
    "execution": {
     "iopub.execute_input": "2024-06-24T15:58:19.447527Z",
     "iopub.status.busy": "2024-06-24T15:58:19.447236Z",
     "iopub.status.idle": "2024-06-24T15:58:42.234698Z",
     "shell.execute_reply": "2024-06-24T15:58:42.233642Z"
    },
    "papermill": {
     "duration": 22.810026,
     "end_time": "2024-06-24T15:58:42.236739",
     "exception": false,
     "start_time": "2024-06-24T15:58:19.426713",
     "status": "completed"
    },
    "tags": []
   },
   "outputs": [
    {
     "data": {
      "text/html": [
       "<div>\n",
       "<style scoped>\n",
       "    .dataframe tbody tr th:only-of-type {\n",
       "        vertical-align: middle;\n",
       "    }\n",
       "\n",
       "    .dataframe tbody tr th {\n",
       "        vertical-align: top;\n",
       "    }\n",
       "\n",
       "    .dataframe thead th {\n",
       "        text-align: right;\n",
       "    }\n",
       "</style>\n",
       "<table border=\"1\" class=\"dataframe\">\n",
       "  <thead>\n",
       "    <tr style=\"text-align: right;\">\n",
       "      <th></th>\n",
       "      <th>app_id</th>\n",
       "      <th>app_name</th>\n",
       "      <th>review_text</th>\n",
       "      <th>review_score</th>\n",
       "      <th>review_votes</th>\n",
       "      <th>word_count</th>\n",
       "    </tr>\n",
       "  </thead>\n",
       "  <tbody>\n",
       "    <tr>\n",
       "      <th>0</th>\n",
       "      <td>10</td>\n",
       "      <td>Counter-Strike</td>\n",
       "      <td>Ruined my life.</td>\n",
       "      <td>1</td>\n",
       "      <td>0</td>\n",
       "      <td>3</td>\n",
       "    </tr>\n",
       "    <tr>\n",
       "      <th>1</th>\n",
       "      <td>10</td>\n",
       "      <td>Counter-Strike</td>\n",
       "      <td>This will be more of a ''my experience with th...</td>\n",
       "      <td>1</td>\n",
       "      <td>1</td>\n",
       "      <td>449</td>\n",
       "    </tr>\n",
       "    <tr>\n",
       "      <th>2</th>\n",
       "      <td>10</td>\n",
       "      <td>Counter-Strike</td>\n",
       "      <td>This game saved my virginity.</td>\n",
       "      <td>1</td>\n",
       "      <td>0</td>\n",
       "      <td>5</td>\n",
       "    </tr>\n",
       "    <tr>\n",
       "      <th>3</th>\n",
       "      <td>10</td>\n",
       "      <td>Counter-Strike</td>\n",
       "      <td>• Do you like original games? • Do you like ga...</td>\n",
       "      <td>1</td>\n",
       "      <td>0</td>\n",
       "      <td>47</td>\n",
       "    </tr>\n",
       "    <tr>\n",
       "      <th>4</th>\n",
       "      <td>10</td>\n",
       "      <td>Counter-Strike</td>\n",
       "      <td>Easy to learn, hard to master.</td>\n",
       "      <td>1</td>\n",
       "      <td>1</td>\n",
       "      <td>6</td>\n",
       "    </tr>\n",
       "  </tbody>\n",
       "</table>\n",
       "</div>"
      ],
      "text/plain": [
       "   app_id        app_name                                        review_text  \\\n",
       "0      10  Counter-Strike                                    Ruined my life.   \n",
       "1      10  Counter-Strike  This will be more of a ''my experience with th...   \n",
       "2      10  Counter-Strike                      This game saved my virginity.   \n",
       "3      10  Counter-Strike  • Do you like original games? • Do you like ga...   \n",
       "4      10  Counter-Strike           Easy to learn, hard to master.             \n",
       "\n",
       "   review_score  review_votes  word_count  \n",
       "0             1             0           3  \n",
       "1             1             1         449  \n",
       "2             1             0           5  \n",
       "3             1             0          47  \n",
       "4             1             1           6  "
      ]
     },
     "execution_count": 14,
     "metadata": {},
     "output_type": "execute_result"
    }
   ],
   "source": [
    "reviews[\"word_count\"] = reviews[\"review_text\"].apply(lambda x: len(x.split()))\n",
    "\n",
    "reviews.head()"
   ]
  },
  {
   "cell_type": "code",
   "execution_count": 15,
   "id": "b53eebbc",
   "metadata": {
    "execution": {
     "iopub.execute_input": "2024-06-24T15:58:42.277865Z",
     "iopub.status.busy": "2024-06-24T15:58:42.277552Z",
     "iopub.status.idle": "2024-06-24T16:00:35.122294Z",
     "shell.execute_reply": "2024-06-24T16:00:35.121384Z"
    },
    "papermill": {
     "duration": 112.867877,
     "end_time": "2024-06-24T16:00:35.124716",
     "exception": false,
     "start_time": "2024-06-24T15:58:42.256839",
     "status": "completed"
    },
    "tags": []
   },
   "outputs": [],
   "source": [
    "# count words without punctuations\n",
    "reviews[\"count_no_punct\"] = reviews[\"review_text\"].apply(lambda x: len(re.findall(r'\\w+', x)))"
   ]
  },
  {
   "cell_type": "code",
   "execution_count": 16,
   "id": "daa364a4",
   "metadata": {
    "execution": {
     "iopub.execute_input": "2024-06-24T16:00:35.166420Z",
     "iopub.status.busy": "2024-06-24T16:00:35.165869Z",
     "iopub.status.idle": "2024-06-24T16:00:35.894221Z",
     "shell.execute_reply": "2024-06-24T16:00:35.893318Z"
    },
    "papermill": {
     "duration": 0.751314,
     "end_time": "2024-06-24T16:00:35.896519",
     "exception": false,
     "start_time": "2024-06-24T16:00:35.145205",
     "status": "completed"
    },
    "tags": []
   },
   "outputs": [],
   "source": [
    "# majority of reviews are under 1000 words\n",
    "# remove reviews that are more than 1000 words\n",
    "reviews = reviews[reviews[\"count_no_punct\"] < 1001].copy(deep=True)"
   ]
  },
  {
   "cell_type": "code",
   "execution_count": 17,
   "id": "20755a95",
   "metadata": {
    "execution": {
     "iopub.execute_input": "2024-06-24T16:00:35.944144Z",
     "iopub.status.busy": "2024-06-24T16:00:35.943681Z",
     "iopub.status.idle": "2024-06-24T16:00:36.167700Z",
     "shell.execute_reply": "2024-06-24T16:00:36.166834Z"
    },
    "papermill": {
     "duration": 0.252254,
     "end_time": "2024-06-24T16:00:36.170467",
     "exception": false,
     "start_time": "2024-06-24T16:00:35.918213",
     "status": "completed"
    },
    "tags": []
   },
   "outputs": [],
   "source": [
    "# reviews that are too short can also be hard to classify\n",
    "# remove any reviews less than 100 words - since we are taking a subset and this dataset is quite robust\n",
    "reviews = reviews[reviews[\"count_no_punct\"] > 100].copy(deep=True)"
   ]
  },
  {
   "cell_type": "code",
   "execution_count": 18,
   "id": "308f2820",
   "metadata": {
    "execution": {
     "iopub.execute_input": "2024-06-24T16:00:36.215821Z",
     "iopub.status.busy": "2024-06-24T16:00:36.215140Z",
     "iopub.status.idle": "2024-06-24T16:00:36.752215Z",
     "shell.execute_reply": "2024-06-24T16:00:36.751384Z"
    },
    "papermill": {
     "duration": 0.559947,
     "end_time": "2024-06-24T16:00:36.754464",
     "exception": false,
     "start_time": "2024-06-24T16:00:36.194517",
     "status": "completed"
    },
    "tags": []
   },
   "outputs": [],
   "source": [
    "# convert review scores to 0 and 1\n",
    "reviews[\"review_score\"] = reviews[\"review_score\"].apply(lambda x: 0 if x == -1 else 1)"
   ]
  },
  {
   "cell_type": "code",
   "execution_count": 19,
   "id": "fe65a842",
   "metadata": {
    "execution": {
     "iopub.execute_input": "2024-06-24T16:00:36.796038Z",
     "iopub.status.busy": "2024-06-24T16:00:36.795722Z",
     "iopub.status.idle": "2024-06-24T16:00:37.055988Z",
     "shell.execute_reply": "2024-06-24T16:00:37.055134Z"
    },
    "papermill": {
     "duration": 0.28338,
     "end_time": "2024-06-24T16:00:37.058063",
     "exception": false,
     "start_time": "2024-06-24T16:00:36.774683",
     "status": "completed"
    },
    "tags": []
   },
   "outputs": [
    {
     "data": {
      "image/png": "[encoded data removed]",
      "text/plain": [
       "<Figure size 640x480 with 1 Axes>"
      ]
     },
     "metadata": {},
     "output_type": "display_data"
    }
   ],
   "source": [
    "# majority of games are viewed favorably\n",
    "reviews[\"review_score\"].value_counts(normalize=True).plot(kind=\"bar\")\n",
    "plt.title(\"Distribution of Reviews\")\n",
    "plt.xlabel(\"Review Favorability Score\")\n",
    "plt.show()"
   ]
  },
  {
   "cell_type": "code",
   "execution_count": 20,
   "id": "3574392f",
   "metadata": {
    "execution": {
     "iopub.execute_input": "2024-06-24T16:00:37.101178Z",
     "iopub.status.busy": "2024-06-24T16:00:37.100821Z",
     "iopub.status.idle": "2024-06-24T16:00:37.136088Z",
     "shell.execute_reply": "2024-06-24T16:00:37.135155Z"
    },
    "papermill": {
     "duration": 0.058884,
     "end_time": "2024-06-24T16:00:37.138156",
     "exception": false,
     "start_time": "2024-06-24T16:00:37.079272",
     "status": "completed"
    },
    "tags": []
   },
   "outputs": [],
   "source": [
    "# least reviewed games\n",
    "app_review_count = reviews[\"app_name\"].value_counts(dropna=False).reset_index()\n",
    "\n",
    "app_remove_least = app_review_count[app_review_count[\"count\"] < 301][\"app_name\"].tolist()"
   ]
  },
  {
   "cell_type": "code",
   "execution_count": 21,
   "id": "31455ed7",
   "metadata": {
    "execution": {
     "iopub.execute_input": "2024-06-24T16:00:37.224405Z",
     "iopub.status.busy": "2024-06-24T16:00:37.223579Z",
     "iopub.status.idle": "2024-06-24T16:00:37.361625Z",
     "shell.execute_reply": "2024-06-24T16:00:37.360350Z"
    },
    "papermill": {
     "duration": 0.162893,
     "end_time": "2024-06-24T16:00:37.365132",
     "exception": false,
     "start_time": "2024-06-24T16:00:37.202239",
     "status": "completed"
    },
    "tags": []
   },
   "outputs": [],
   "source": [
    "# remove games from dataset\n",
    "reviews = reviews[~reviews[\"app_name\"].isin(app_remove_least)].copy(deep=True)"
   ]
  },
  {
   "cell_type": "code",
   "execution_count": 22,
   "id": "f893173c",
   "metadata": {
    "execution": {
     "iopub.execute_input": "2024-06-24T16:00:37.408404Z",
     "iopub.status.busy": "2024-06-24T16:00:37.408037Z",
     "iopub.status.idle": "2024-06-24T16:00:37.412384Z",
     "shell.execute_reply": "2024-06-24T16:00:37.411435Z"
    },
    "papermill": {
     "duration": 0.027811,
     "end_time": "2024-06-24T16:00:37.414350",
     "exception": false,
     "start_time": "2024-06-24T16:00:37.386539",
     "status": "completed"
    },
    "tags": []
   },
   "outputs": [],
   "source": [
    "target_names = ['NOT TRAVEL','TRAVEL']"
   ]
  },
  {
   "cell_type": "markdown",
   "id": "49d0dea7",
   "metadata": {
    "papermill": {
     "duration": 0.020001,
     "end_time": "2024-06-24T16:00:37.454550",
     "exception": false,
     "start_time": "2024-06-24T16:00:37.434549",
     "status": "completed"
    },
    "tags": []
   },
   "source": [
    "## Data Balance"
   ]
  },
  {
   "cell_type": "code",
   "execution_count": 23,
   "id": "2fc5bf79",
   "metadata": {
    "execution": {
     "iopub.execute_input": "2024-06-24T16:00:37.496193Z",
     "iopub.status.busy": "2024-06-24T16:00:37.495770Z",
     "iopub.status.idle": "2024-06-24T16:00:37.563801Z",
     "shell.execute_reply": "2024-06-24T16:00:37.562738Z"
    },
    "papermill": {
     "duration": 0.091583,
     "end_time": "2024-06-24T16:00:37.566248",
     "exception": false,
     "start_time": "2024-06-24T16:00:37.474665",
     "status": "completed"
    },
    "tags": []
   },
   "outputs": [],
   "source": [
    "# take an even number of samples from each group: positive and negative\n",
    "positive_rev = reviews[reviews[\"review_score\"] == 1].sample(n=18000)\n",
    "negative_rev = reviews[reviews[\"review_score\"] == 0].sample(n=18000)"
   ]
  },
  {
   "cell_type": "code",
   "execution_count": 24,
   "id": "b3a1b66c",
   "metadata": {
    "execution": {
     "iopub.execute_input": "2024-06-24T16:00:37.609059Z",
     "iopub.status.busy": "2024-06-24T16:00:37.608484Z",
     "iopub.status.idle": "2024-06-24T16:00:37.614759Z",
     "shell.execute_reply": "2024-06-24T16:00:37.614044Z"
    },
    "papermill": {
     "duration": 0.029205,
     "end_time": "2024-06-24T16:00:37.616675",
     "exception": false,
     "start_time": "2024-06-24T16:00:37.587470",
     "status": "completed"
    },
    "tags": []
   },
   "outputs": [],
   "source": [
    "review_sample = pd.concat([positive_rev, negative_rev])"
   ]
  },
  {
   "cell_type": "code",
   "execution_count": 25,
   "id": "15220456",
   "metadata": {
    "execution": {
     "iopub.execute_input": "2024-06-24T16:00:37.657790Z",
     "iopub.status.busy": "2024-06-24T16:00:37.657519Z",
     "iopub.status.idle": "2024-06-24T16:00:37.676481Z",
     "shell.execute_reply": "2024-06-24T16:00:37.675471Z"
    },
    "papermill": {
     "duration": 0.04183,
     "end_time": "2024-06-24T16:00:37.678603",
     "exception": false,
     "start_time": "2024-06-24T16:00:37.636773",
     "status": "completed"
    },
    "tags": []
   },
   "outputs": [
    {
     "name": "stdout",
     "output_type": "stream",
     "text": [
      "<class 'pandas.core.frame.DataFrame'>\n",
      "Index: 36000 entries, 1657572 to 534213\n",
      "Data columns (total 7 columns):\n",
      " #   Column          Non-Null Count  Dtype \n",
      "---  ------          --------------  ----- \n",
      " 0   app_id          36000 non-null  int64 \n",
      " 1   app_name        36000 non-null  object\n",
      " 2   review_text     36000 non-null  object\n",
      " 3   review_score    36000 non-null  int64 \n",
      " 4   review_votes    36000 non-null  int64 \n",
      " 5   word_count      36000 non-null  int64 \n",
      " 6   count_no_punct  36000 non-null  int64 \n",
      "dtypes: int64(5), object(2)\n",
      "memory usage: 2.2+ MB\n"
     ]
    }
   ],
   "source": [
    "review_sample.info()"
   ]
  },
  {
   "cell_type": "markdown",
   "id": "f86d7ef5",
   "metadata": {
    "papermill": {
     "duration": 0.019697,
     "end_time": "2024-06-24T16:00:37.719446",
     "exception": false,
     "start_time": "2024-06-24T16:00:37.699749",
     "status": "completed"
    },
    "tags": []
   },
   "source": [
    "## Data Modeling"
   ]
  },
  {
   "cell_type": "code",
   "execution_count": 26,
   "id": "035967cf",
   "metadata": {
    "execution": {
     "iopub.execute_input": "2024-06-24T16:00:37.760564Z",
     "iopub.status.busy": "2024-06-24T16:00:37.760283Z",
     "iopub.status.idle": "2024-06-24T16:03:12.841563Z",
     "shell.execute_reply": "2024-06-24T16:03:12.840482Z"
    },
    "papermill": {
     "duration": 155.104984,
     "end_time": "2024-06-24T16:03:12.844339",
     "exception": false,
     "start_time": "2024-06-24T16:00:37.739355",
     "status": "completed"
    },
    "tags": []
   },
   "outputs": [
    {
     "name": "stdout",
     "output_type": "stream",
     "text": [
      "['not_review_score', 'review_score']\n",
      "         not_review_score  review_score\n",
      "5631646               1.0           0.0\n",
      "2510776               1.0           0.0\n",
      "5413625               0.0           1.0\n",
      "3553776               1.0           0.0\n",
      "5590023               1.0           0.0\n",
      "['not_review_score', 'review_score']\n",
      "         not_review_score  review_score\n",
      "3747662               0.0           1.0\n",
      "2028145               0.0           1.0\n",
      "2518814               0.0           1.0\n",
      "5165016               0.0           1.0\n",
      "3665571               1.0           0.0\n",
      "downloading pretrained BERT model (uncased_L-12_H-768_A-12.zip)...\n",
      "[██████████████████████████████████████████████████]\n",
      "extracting pretrained BERT model...\n",
      "done.\n",
      "\n",
      "cleanup downloaded zip...\n",
      "done.\n",
      "\n",
      "preprocessing train...\n",
      "language: en\n"
     ]
    },
    {
     "data": {
      "text/html": [
       "\n",
       "<style>\n",
       "    /* Turns off some styling */\n",
       "    progress {\n",
       "        /* gets rid of default border in Firefox and Opera. */\n",
       "        border: none;\n",
       "        /* Needs to be in here for Safari polyfill so background images work as expected. */\n",
       "        background-size: auto;\n",
       "    }\n",
       "    progress:not([value]), progress:not([value])::-webkit-progress-bar {\n",
       "        background: repeating-linear-gradient(45deg, #7e7e7e, #7e7e7e 10px, #5c5c5c 10px, #5c5c5c 20px);\n",
       "    }\n",
       "    .progress-bar-interrupted, .progress-bar-interrupted::-webkit-progress-bar {\n",
       "        background: #F44336;\n",
       "    }\n",
       "</style>\n"
      ],
      "text/plain": [
       "<IPython.core.display.HTML object>"
      ]
     },
     "metadata": {},
     "output_type": "display_data"
    },
    {
     "data": {
      "text/html": [
       "done."
      ],
      "text/plain": [
       "<IPython.core.display.HTML object>"
      ]
     },
     "metadata": {},
     "output_type": "display_data"
    },
    {
     "name": "stdout",
     "output_type": "stream",
     "text": [
      "Is Multi-Label? False\n",
      "preprocessing test...\n",
      "language: en\n"
     ]
    },
    {
     "data": {
      "text/html": [
       "\n",
       "<style>\n",
       "    /* Turns off some styling */\n",
       "    progress {\n",
       "        /* gets rid of default border in Firefox and Opera. */\n",
       "        border: none;\n",
       "        /* Needs to be in here for Safari polyfill so background images work as expected. */\n",
       "        background-size: auto;\n",
       "    }\n",
       "    progress:not([value]), progress:not([value])::-webkit-progress-bar {\n",
       "        background: repeating-linear-gradient(45deg, #7e7e7e, #7e7e7e 10px, #5c5c5c 10px, #5c5c5c 20px);\n",
       "    }\n",
       "    .progress-bar-interrupted, .progress-bar-interrupted::-webkit-progress-bar {\n",
       "        background: #F44336;\n",
       "    }\n",
       "</style>\n"
      ],
      "text/plain": [
       "<IPython.core.display.HTML object>"
      ]
     },
     "metadata": {},
     "output_type": "display_data"
    },
    {
     "data": {
      "text/html": [
       "done."
      ],
      "text/plain": [
       "<IPython.core.display.HTML object>"
      ]
     },
     "metadata": {},
     "output_type": "display_data"
    }
   ],
   "source": [
    "train, val, preprocess = ktrain.text.texts_from_df(\n",
    "    review_sample,\n",
    "    \"review_text\",\n",
    "    label_columns=[\"review_score\"],\n",
    "    val_df=None,\n",
    "    max_features=20000,\n",
    "    maxlen=512,\n",
    "    val_pct=0.1,\n",
    "    ngram_range=1,\n",
    "    preprocess_mode=\"bert\",\n",
    "    verbose=1\n",
    ")"
   ]
  },
  {
   "cell_type": "code",
   "execution_count": 27,
   "id": "a8de42de",
   "metadata": {
    "execution": {
     "iopub.execute_input": "2024-06-24T16:03:12.955375Z",
     "iopub.status.busy": "2024-06-24T16:03:12.954910Z",
     "iopub.status.idle": "2024-06-24T16:03:26.166964Z",
     "shell.execute_reply": "2024-06-24T16:03:26.166012Z"
    },
    "papermill": {
     "duration": 13.269287,
     "end_time": "2024-06-24T16:03:26.169004",
     "exception": false,
     "start_time": "2024-06-24T16:03:12.899717",
     "status": "completed"
    },
    "tags": []
   },
   "outputs": [
    {
     "name": "stdout",
     "output_type": "stream",
     "text": [
      "Is Multi-Label? False\n",
      "maxlen is 512\n"
     ]
    },
    {
     "name": "stderr",
     "output_type": "stream",
     "text": [
      "/opt/conda/lib/python3.10/site-packages/tf_keras/src/initializers/initializers.py:121: UserWarning: The initializer GlorotNormal is unseeded and being called multiple times, which will return identical values each time (even if the initializer is unseeded). Please update your code to provide a seed to the initializer, or avoid using the same initializer instance more than once.\n",
      "  warnings.warn(\n"
     ]
    },
    {
     "name": "stdout",
     "output_type": "stream",
     "text": [
      "done.\n"
     ]
    }
   ],
   "source": [
    "model = ktrain.text.text_classifier(\"bert\", train, preproc=preprocess)"
   ]
  },
  {
   "cell_type": "code",
   "execution_count": 28,
   "id": "cfe64925",
   "metadata": {
    "execution": {
     "iopub.execute_input": "2024-06-24T16:03:26.274361Z",
     "iopub.status.busy": "2024-06-24T16:03:26.274011Z",
     "iopub.status.idle": "2024-06-24T16:03:27.235058Z",
     "shell.execute_reply": "2024-06-24T16:03:27.234051Z"
    },
    "papermill": {
     "duration": 1.016941,
     "end_time": "2024-06-24T16:03:27.237392",
     "exception": false,
     "start_time": "2024-06-24T16:03:26.220451",
     "status": "completed"
    },
    "tags": []
   },
   "outputs": [],
   "source": [
    "learner = ktrain.get_learner(model, train_data=train, val_data=val, batch_size=8)"
   ]
  },
  {
   "cell_type": "code",
   "execution_count": 29,
   "id": "e73f9957",
   "metadata": {
    "execution": {
     "iopub.execute_input": "2024-06-24T16:03:27.341341Z",
     "iopub.status.busy": "2024-06-24T16:03:27.340699Z",
     "iopub.status.idle": "2024-06-24T18:33:00.643228Z",
     "shell.execute_reply": "2024-06-24T18:33:00.642061Z"
    },
    "papermill": {
     "duration": 8973.356361,
     "end_time": "2024-06-24T18:33:00.645250",
     "exception": false,
     "start_time": "2024-06-24T16:03:27.288889",
     "status": "completed"
    },
    "tags": []
   },
   "outputs": [
    {
     "name": "stdout",
     "output_type": "stream",
     "text": [
      "simulating training for different learning rates... this may take a few moments...\n"
     ]
    },
    {
     "name": "stderr",
     "output_type": "stream",
     "text": [
      "/opt/conda/lib/python3.10/site-packages/tf_keras/src/engine/training.py:3098: UserWarning: You are saving your model as an HDF5 file via `model.save()`. This file format is considered legacy. We recommend using instead the native TF-Keras format, e.g. `model.save('my_model.keras')`.\n",
      "  saving_api.save_model(\n"
     ]
    },
    {
     "name": "stdout",
     "output_type": "stream",
     "text": [
      "Epoch 1/6\n",
      "4050/4050 [==============================] - 2572s 621ms/step - loss: 0.4655 - accuracy: 0.7728\n",
      "Epoch 2/6\n",
      "4050/4050 [==============================] - 2514s 621ms/step - loss: 0.2501 - accuracy: 0.8989\n",
      "Epoch 3/6\n",
      "4050/4050 [==============================] - 2514s 621ms/step - loss: 0.5935 - accuracy: 0.6128\n",
      "Epoch 4/6\n",
      "4050/4050 [==============================] - 1365s 337ms/step - loss: 0.8232 - accuracy: 0.4975\n",
      "\n",
      "\n",
      "done.\n",
      "Please invoke the Learner.lr_plot() method to visually inspect the loss plot to help identify the maximal learning rate associated with falling loss.\n"
     ]
    }
   ],
   "source": [
    "learner.lr_find(max_epochs=6)"
   ]
  },
  {
   "cell_type": "code",
   "execution_count": 30,
   "id": "a32b7716",
   "metadata": {
    "execution": {
     "iopub.execute_input": "2024-06-24T18:33:03.157048Z",
     "iopub.status.busy": "2024-06-24T18:33:03.156279Z",
     "iopub.status.idle": "2024-06-24T18:33:03.766912Z",
     "shell.execute_reply": "2024-06-24T18:33:03.765974Z"
    },
    "papermill": {
     "duration": 1.826902,
     "end_time": "2024-06-24T18:33:03.768887",
     "exception": false,
     "start_time": "2024-06-24T18:33:01.941985",
     "status": "completed"
    },
    "tags": []
   },
   "outputs": [
    {
     "data": {
      "image/png": "[encoded data removed]",
      "text/plain": [
       "<Figure size 640x480 with 1 Axes>"
      ]
     },
     "metadata": {},
     "output_type": "display_data"
    }
   ],
   "source": [
    "learner.lr_plot()"
   ]
  },
  {
   "cell_type": "code",
   "execution_count": 31,
   "id": "03a16dc9",
   "metadata": {
    "execution": {
     "iopub.execute_input": "2024-06-24T18:33:06.230233Z",
     "iopub.status.busy": "2024-06-24T18:33:06.229848Z",
     "iopub.status.idle": "2024-06-24T20:44:07.292045Z",
     "shell.execute_reply": "2024-06-24T20:44:07.291119Z"
    },
    "papermill": {
     "duration": 7863.480973,
     "end_time": "2024-06-24T20:44:08.517414",
     "exception": false,
     "start_time": "2024-06-24T18:33:05.036441",
     "status": "completed"
    },
    "tags": []
   },
   "outputs": [
    {
     "name": "stdout",
     "output_type": "stream",
     "text": [
      "\n",
      "\n",
      "begin training using triangular learning rate policy with max lr of 1e-05...\n",
      "Epoch 1/10\n",
      "4050/4050 [==============================] - 2649s 645ms/step - loss: 0.2755 - accuracy: 0.8837 - val_loss: 0.1847 - val_accuracy: 0.9264\n",
      "Epoch 2/10\n",
      "4050/4050 [==============================] - 2605s 643ms/step - loss: 0.1589 - accuracy: 0.9392 - val_loss: 0.1786 - val_accuracy: 0.9314\n",
      "Epoch 3/10\n",
      "4050/4050 [==============================] - ETA: 0s - loss: 0.1021 - accuracy: 0.9634Restoring model weights from the end of the best epoch: 2.\n",
      "4050/4050 [==============================] - 2606s 643ms/step - loss: 0.1021 - accuracy: 0.9634 - val_loss: 0.1912 - val_accuracy: 0.9325\n",
      "Epoch 3: early stopping\n",
      "Weights from best epoch have been loaded into model.\n"
     ]
    }
   ],
   "source": [
    "history=learner.autofit(\n",
    "    1e-5,\n",
    "    checkpoint_folder='checkpoint',\n",
    "    epochs=10,\n",
    "    early_stopping=True\n",
    ")"
   ]
  },
  {
   "cell_type": "code",
   "execution_count": 32,
   "id": "e5f52226",
   "metadata": {
    "execution": {
     "iopub.execute_input": "2024-06-24T20:44:13.039603Z",
     "iopub.status.busy": "2024-06-24T20:44:13.039203Z",
     "iopub.status.idle": "2024-06-24T20:44:13.043910Z",
     "shell.execute_reply": "2024-06-24T20:44:13.043010Z"
    },
    "papermill": {
     "duration": 2.277586,
     "end_time": "2024-06-24T20:44:13.045795",
     "exception": false,
     "start_time": "2024-06-24T20:44:10.768209",
     "status": "completed"
    },
    "tags": []
   },
   "outputs": [],
   "source": [
    "predictor = ktrain.get_predictor(learner.model, preproc=preprocess)"
   ]
  },
  {
   "cell_type": "code",
   "execution_count": 33,
   "id": "a87e64e8",
   "metadata": {
    "execution": {
     "iopub.execute_input": "2024-06-24T20:44:17.531442Z",
     "iopub.status.busy": "2024-06-24T20:44:17.531057Z",
     "iopub.status.idle": "2024-06-24T20:45:48.296268Z",
     "shell.execute_reply": "2024-06-24T20:45:48.295137Z"
    },
    "papermill": {
     "duration": 93.057752,
     "end_time": "2024-06-24T20:45:48.298143",
     "exception": false,
     "start_time": "2024-06-24T20:44:15.240391",
     "status": "completed"
    },
    "tags": []
   },
   "outputs": [
    {
     "name": "stdout",
     "output_type": "stream",
     "text": [
      "113/113 [==============================] - 91s 725ms/step\n",
      "              precision    recall  f1-score   support\n",
      "\n",
      "           0       0.92      0.94      0.93      1754\n",
      "           1       0.94      0.92      0.93      1846\n",
      "\n",
      "    accuracy                           0.93      3600\n",
      "   macro avg       0.93      0.93      0.93      3600\n",
      "weighted avg       0.93      0.93      0.93      3600\n",
      "\n"
     ]
    }
   ],
   "source": [
    "validation = learner.validate(val_data=val, print_report=True)"
   ]
  }
 ],
 "metadata": {
  "kaggle": {
   "accelerator": "gpu",
   "dataSources": [
    {
     "datasetId": 1754525,
     "sourceId": 2865831,
     "sourceType": "datasetVersion"
    }
   ],
   "dockerImageVersionId": 30733,
   "isGpuEnabled": true,
   "isInternetEnabled": true,
   "language": "python",
   "sourceType": "notebook"
  },
  "kernelspec": {
   "display_name": "Python 3",
   "language": "python",
   "name": "python3"
  },
  "language_info": {
   "codemirror_mode": {
    "name": "ipython",
    "version": 3
   },
   "file_extension": ".py",
   "mimetype": "text/x-python",
   "name": "python",
   "nbconvert_exporter": "python",
   "pygments_lexer": "ipython3",
   "version": "3.10.13"
  },
  "papermill": {
   "default_parameters": {},
   "duration": 17403.994184,
   "end_time": "2024-06-24T20:45:54.489264",
   "environment_variables": {},
   "exception": null,
   "input_path": "__notebook__.ipynb",
   "output_path": "__notebook__.ipynb",
   "parameters": {},
   "start_time": "2024-06-24T15:55:50.495080",
   "version": "2.5.0"
  }
 },
 "nbformat": 4,
 "nbformat_minor": 5
}
